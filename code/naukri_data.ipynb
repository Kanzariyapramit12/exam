{
 "cells": [
  {
   "cell_type": "markdown",
   "id": "1ca01143",
   "metadata": {},
   "source": [
    "## Naukri dataset"
   ]
  },
  {
   "cell_type": "code",
   "execution_count": 1,
   "id": "b0a7b0aa",
   "metadata": {},
   "outputs": [],
   "source": [
    "import pandas as pd\n",
    "import numpy as np"
   ]
  },
  {
   "cell_type": "code",
   "execution_count": 2,
   "id": "00f48e94",
   "metadata": {},
   "outputs": [
    {
     "name": "stdout",
     "output_type": "stream",
     "text": [
      "<class 'pandas.core.frame.DataFrame'>\n",
      "RangeIndex: 12000 entries, 0 to 11999\n",
      "Data columns (total 5 columns):\n",
      " #   Column              Non-Null Count  Dtype \n",
      "---  ------              --------------  ----- \n",
      " 0   Job_Role            12000 non-null  object\n",
      " 1   Company             12000 non-null  object\n",
      " 2   Location            12000 non-null  object\n",
      " 3   Job Experience      12000 non-null  object\n",
      " 4   Skills/Description  12000 non-null  object\n",
      "dtypes: object(5)\n",
      "memory usage: 468.9+ KB\n"
     ]
    }
   ],
   "source": [
    "df = pd.read_csv(\"../data/naukri_data_scince/naukri_data_science_jobs_india.csv\")\n",
    "df.info()"
   ]
  },
  {
   "cell_type": "code",
   "execution_count": 3,
   "id": "1a79201f",
   "metadata": {},
   "outputs": [
    {
     "data": {
      "text/html": [
       "<div>\n",
       "<style scoped>\n",
       "    .dataframe tbody tr th:only-of-type {\n",
       "        vertical-align: middle;\n",
       "    }\n",
       "\n",
       "    .dataframe tbody tr th {\n",
       "        vertical-align: top;\n",
       "    }\n",
       "\n",
       "    .dataframe thead th {\n",
       "        text-align: right;\n",
       "    }\n",
       "</style>\n",
       "<table border=\"1\" class=\"dataframe\">\n",
       "  <thead>\n",
       "    <tr style=\"text-align: right;\">\n",
       "      <th></th>\n",
       "      <th>Job_Role</th>\n",
       "      <th>Company</th>\n",
       "      <th>Location</th>\n",
       "      <th>Job Experience</th>\n",
       "      <th>Skills/Description</th>\n",
       "    </tr>\n",
       "  </thead>\n",
       "  <tbody>\n",
       "    <tr>\n",
       "      <th>0</th>\n",
       "      <td>Senior Data Scientist</td>\n",
       "      <td>UPL</td>\n",
       "      <td>Bangalore/Bengaluru, Mumbai (All Areas)</td>\n",
       "      <td>3-6</td>\n",
       "      <td>python, MLT, statistical modeling, machine lea...</td>\n",
       "    </tr>\n",
       "    <tr>\n",
       "      <th>1</th>\n",
       "      <td>Senior Data Scientist</td>\n",
       "      <td>Walmart</td>\n",
       "      <td>Bangalore/Bengaluru</td>\n",
       "      <td>5-9</td>\n",
       "      <td>Data Science, Machine learning, Python, Azure,...</td>\n",
       "    </tr>\n",
       "    <tr>\n",
       "      <th>2</th>\n",
       "      <td>Applied Data Scientist / ML Senior Engineer (P...</td>\n",
       "      <td>SAP India Pvt.Ltd</td>\n",
       "      <td>Bangalore/Bengaluru</td>\n",
       "      <td>5-10</td>\n",
       "      <td>Python, IT Skills, Testing, Cloud, Product Man...</td>\n",
       "    </tr>\n",
       "    <tr>\n",
       "      <th>3</th>\n",
       "      <td>Data Scientist</td>\n",
       "      <td>UPL</td>\n",
       "      <td>Bangalore/Bengaluru, Mumbai (All Areas)</td>\n",
       "      <td>1-4</td>\n",
       "      <td>python, machine learning, Data Science, data a...</td>\n",
       "    </tr>\n",
       "    <tr>\n",
       "      <th>4</th>\n",
       "      <td>Data Scientist</td>\n",
       "      <td>Walmart</td>\n",
       "      <td>Bangalore/Bengaluru</td>\n",
       "      <td>4-8</td>\n",
       "      <td>IT Skills, Python, Data Science, Machine Learn...</td>\n",
       "    </tr>\n",
       "  </tbody>\n",
       "</table>\n",
       "</div>"
      ],
      "text/plain": [
       "                                            Job_Role            Company  \\\n",
       "0                              Senior Data Scientist                UPL   \n",
       "1                              Senior Data Scientist            Walmart   \n",
       "2  Applied Data Scientist / ML Senior Engineer (P...  SAP India Pvt.Ltd   \n",
       "3                                     Data Scientist                UPL   \n",
       "4                                     Data Scientist            Walmart   \n",
       "\n",
       "                                  Location Job Experience  \\\n",
       "0  Bangalore/Bengaluru, Mumbai (All Areas)            3-6   \n",
       "1                      Bangalore/Bengaluru            5-9   \n",
       "2                      Bangalore/Bengaluru           5-10   \n",
       "3  Bangalore/Bengaluru, Mumbai (All Areas)            1-4   \n",
       "4                      Bangalore/Bengaluru            4-8   \n",
       "\n",
       "                                  Skills/Description  \n",
       "0  python, MLT, statistical modeling, machine lea...  \n",
       "1  Data Science, Machine learning, Python, Azure,...  \n",
       "2  Python, IT Skills, Testing, Cloud, Product Man...  \n",
       "3  python, machine learning, Data Science, data a...  \n",
       "4  IT Skills, Python, Data Science, Machine Learn...  "
      ]
     },
     "execution_count": 3,
     "metadata": {},
     "output_type": "execute_result"
    }
   ],
   "source": [
    "df.head()"
   ]
  },
  {
   "cell_type": "code",
   "execution_count": 4,
   "id": "5e2f23d7",
   "metadata": {},
   "outputs": [
    {
     "data": {
      "text/plain": [
       "(12000, 5)"
      ]
     },
     "execution_count": 4,
     "metadata": {},
     "output_type": "execute_result"
    }
   ],
   "source": [
    "df.shape"
   ]
  },
  {
   "cell_type": "code",
   "execution_count": 5,
   "id": "082fd929",
   "metadata": {},
   "outputs": [
    {
     "data": {
      "text/plain": [
       "2"
      ]
     },
     "execution_count": 5,
     "metadata": {},
     "output_type": "execute_result"
    }
   ],
   "source": [
    "df.ndim"
   ]
  },
  {
   "cell_type": "code",
   "execution_count": 6,
   "id": "ee5e4204",
   "metadata": {},
   "outputs": [
    {
     "data": {
      "text/html": [
       "<div>\n",
       "<style scoped>\n",
       "    .dataframe tbody tr th:only-of-type {\n",
       "        vertical-align: middle;\n",
       "    }\n",
       "\n",
       "    .dataframe tbody tr th {\n",
       "        vertical-align: top;\n",
       "    }\n",
       "\n",
       "    .dataframe thead th {\n",
       "        text-align: right;\n",
       "    }\n",
       "</style>\n",
       "<table border=\"1\" class=\"dataframe\">\n",
       "  <thead>\n",
       "    <tr style=\"text-align: right;\">\n",
       "      <th></th>\n",
       "      <th>Job_Role</th>\n",
       "      <th>Company</th>\n",
       "      <th>Location</th>\n",
       "      <th>Job Experience</th>\n",
       "      <th>Skills/Description</th>\n",
       "    </tr>\n",
       "  </thead>\n",
       "  <tbody>\n",
       "    <tr>\n",
       "      <th>11995</th>\n",
       "      <td>Tech Lead/Architect ( Contractual )</td>\n",
       "      <td>Krazy Mantra HR Solutions Pvt. Ltd</td>\n",
       "      <td>Kolkata, Chennai, Bangalore/Bengaluru</td>\n",
       "      <td>8-13</td>\n",
       "      <td>Spark, Python, S3, lambda, Athena, AWS, IT Ski...</td>\n",
       "    </tr>\n",
       "    <tr>\n",
       "      <th>11996</th>\n",
       "      <td>Tech Lead / POD Lead</td>\n",
       "      <td>cliqhr.com</td>\n",
       "      <td>Hyderabad/Secunderabad, Pune, Bangalore/Bengaluru</td>\n",
       "      <td>10-12</td>\n",
       "      <td>AirFlow, BigQuery, GCS, Kafka, Java, Shell scr...</td>\n",
       "    </tr>\n",
       "    <tr>\n",
       "      <th>11997</th>\n",
       "      <td>Java Full Stack Developer - Hibernate / Spring</td>\n",
       "      <td>Serving Skill</td>\n",
       "      <td>Hyderabad/Secunderabad, Bangalore/Bengaluru</td>\n",
       "      <td>2-5</td>\n",
       "      <td>IT Skills, Java, Software Development, Testing...</td>\n",
       "    </tr>\n",
       "    <tr>\n",
       "      <th>11998</th>\n",
       "      <td>Tech Lead - Azure</td>\n",
       "      <td>cliqhr.com</td>\n",
       "      <td>Kochi/Cochin, Mumbai, Hyderabad/Secunderabad, ...</td>\n",
       "      <td>8-10</td>\n",
       "      <td>PowerShell, Azure Data Factory, Azure, PaaS, M...</td>\n",
       "    </tr>\n",
       "    <tr>\n",
       "      <th>11999</th>\n",
       "      <td>Full Stack Developer - Machine Learning</td>\n",
       "      <td>Huquo Consulting Pvt. Ltd</td>\n",
       "      <td>Bangalore/Bengaluru</td>\n",
       "      <td>5-10</td>\n",
       "      <td>Java, JavaScript, Machine Learning, NoSQL, Clo...</td>\n",
       "    </tr>\n",
       "  </tbody>\n",
       "</table>\n",
       "</div>"
      ],
      "text/plain": [
       "                                             Job_Role  \\\n",
       "11995             Tech Lead/Architect ( Contractual )   \n",
       "11996                            Tech Lead / POD Lead   \n",
       "11997  Java Full Stack Developer - Hibernate / Spring   \n",
       "11998                               Tech Lead - Azure   \n",
       "11999         Full Stack Developer - Machine Learning   \n",
       "\n",
       "                                  Company  \\\n",
       "11995  Krazy Mantra HR Solutions Pvt. Ltd   \n",
       "11996                          cliqhr.com   \n",
       "11997                       Serving Skill   \n",
       "11998                          cliqhr.com   \n",
       "11999           Huquo Consulting Pvt. Ltd   \n",
       "\n",
       "                                                Location Job Experience  \\\n",
       "11995              Kolkata, Chennai, Bangalore/Bengaluru           8-13   \n",
       "11996  Hyderabad/Secunderabad, Pune, Bangalore/Bengaluru          10-12   \n",
       "11997        Hyderabad/Secunderabad, Bangalore/Bengaluru            2-5   \n",
       "11998  Kochi/Cochin, Mumbai, Hyderabad/Secunderabad, ...           8-10   \n",
       "11999                                Bangalore/Bengaluru           5-10   \n",
       "\n",
       "                                      Skills/Description  \n",
       "11995  Spark, Python, S3, lambda, Athena, AWS, IT Ski...  \n",
       "11996  AirFlow, BigQuery, GCS, Kafka, Java, Shell scr...  \n",
       "11997  IT Skills, Java, Software Development, Testing...  \n",
       "11998  PowerShell, Azure Data Factory, Azure, PaaS, M...  \n",
       "11999  Java, JavaScript, Machine Learning, NoSQL, Clo...  "
      ]
     },
     "execution_count": 6,
     "metadata": {},
     "output_type": "execute_result"
    }
   ],
   "source": [
    "df.tail()"
   ]
  },
  {
   "cell_type": "code",
   "execution_count": 7,
   "id": "f8623cc6",
   "metadata": {},
   "outputs": [],
   "source": [
    "df = df.astype(\"string\",copy=True)"
   ]
  },
  {
   "cell_type": "code",
   "execution_count": 8,
   "id": "94f8fd54",
   "metadata": {},
   "outputs": [
    {
     "data": {
      "text/plain": [
       "Job_Role              0\n",
       "Company               0\n",
       "Location              0\n",
       "Job Experience        0\n",
       "Skills/Description    0\n",
       "dtype: int64"
      ]
     },
     "execution_count": 8,
     "metadata": {},
     "output_type": "execute_result"
    }
   ],
   "source": [
    "df.isna().sum()"
   ]
  },
  {
   "cell_type": "code",
   "execution_count": 9,
   "id": "04342017",
   "metadata": {},
   "outputs": [
    {
     "name": "stdout",
     "output_type": "stream",
     "text": [
      "Job_Role              11993\n",
      "Company               11993\n",
      "Location              11993\n",
      "Job Experience        11993\n",
      "Skills/Description    11993\n",
      "dtype: int64\n",
      "<class 'pandas.core.frame.DataFrame'>\n",
      "RangeIndex: 12000 entries, 0 to 11999\n",
      "Data columns (total 5 columns):\n",
      " #   Column              Non-Null Count  Dtype \n",
      "---  ------              --------------  ----- \n",
      " 0   Job_Role            12000 non-null  string\n",
      " 1   Company             12000 non-null  string\n",
      " 2   Location            12000 non-null  string\n",
      " 3   Job Experience      12000 non-null  string\n",
      " 4   Skills/Description  12000 non-null  string\n",
      "dtypes: string(5)\n",
      "memory usage: 468.9 KB\n"
     ]
    }
   ],
   "source": [
    "mask =  df[\"Job Experience\"].str.match(r\"^\\d{1,3}-\\d{1,3}\")\n",
    "print(df[mask].count())\n",
    "\n",
    "number=  df[~mask].index\n",
    "n = np.array(number)\n",
    "n\n",
    "for i in n:\n",
    "    df.loc[i,\"Job Experience\"]=\"0-0\"\n",
    "df.info()"
   ]
  },
  {
   "cell_type": "code",
   "execution_count": 10,
   "id": "9b77624d",
   "metadata": {},
   "outputs": [
    {
     "name": "stdout",
     "output_type": "stream",
     "text": [
      "Job_Role              12000\n",
      "Company               12000\n",
      "Location              12000\n",
      "Job Experience        12000\n",
      "Skills/Description    12000\n",
      "dtype: int64\n"
     ]
    }
   ],
   "source": [
    "mask =  df[\"Job Experience\"].str.match(r\"^\\d{1,3}-\\d{1,3}\")\n",
    "print(df[mask].count())"
   ]
  },
  {
   "cell_type": "code",
   "execution_count": 11,
   "id": "5e184eaa",
   "metadata": {},
   "outputs": [
    {
     "data": {
      "text/plain": [
       "(6563,)"
      ]
     },
     "execution_count": 11,
     "metadata": {},
     "output_type": "execute_result"
    }
   ],
   "source": [
    "# diff job role for company\n",
    "df[\"Job_Role\"].unique().shape"
   ]
  },
  {
   "cell_type": "code",
   "execution_count": 12,
   "id": "c72e10c4",
   "metadata": {},
   "outputs": [
    {
     "data": {
      "text/plain": [
       "(3507,)"
      ]
     },
     "execution_count": 12,
     "metadata": {},
     "output_type": "execute_result"
    }
   ],
   "source": [
    "df[\"Company\"].unique().shape"
   ]
  },
  {
   "cell_type": "code",
   "execution_count": 13,
   "id": "20d47cba",
   "metadata": {},
   "outputs": [
    {
     "data": {
      "text/plain": [
       "np.int64(12000)"
      ]
     },
     "execution_count": 13,
     "metadata": {},
     "output_type": "execute_result"
    }
   ],
   "source": [
    "df.duplicated().count()"
   ]
  },
  {
   "cell_type": "code",
   "execution_count": 14,
   "id": "58d60f9b",
   "metadata": {},
   "outputs": [
    {
     "data": {
      "text/plain": [
       "(11356,)"
      ]
     },
     "execution_count": 14,
     "metadata": {},
     "output_type": "execute_result"
    }
   ],
   "source": [
    "df[\"Skills/Description\"].unique().shape"
   ]
  },
  {
   "cell_type": "code",
   "execution_count": 15,
   "id": "3e094a7c",
   "metadata": {},
   "outputs": [
    {
     "name": "stdout",
     "output_type": "stream",
     "text": [
      "avalible job : 35\n"
     ]
    }
   ],
   "source": [
    "# create a function give company then show this group\n",
    "group =  df.groupby(by=\"Company\")\n",
    "def find_company(name):\n",
    "    return group.get_group(name)\n",
    "count = find_company(\"cliqhr.com\")[\"Job_Role\"].count()\n",
    "print(\"avalible job :\",count)"
   ]
  },
  {
   "cell_type": "code",
   "execution_count": 16,
   "id": "1983e616",
   "metadata": {},
   "outputs": [
    {
     "data": {
      "text/plain": [
       "Job_Role              3202\n",
       "Company               3202\n",
       "Location              3202\n",
       "Job Experience        3202\n",
       "Skills/Description    3202\n",
       "dtype: int64"
      ]
     },
     "execution_count": 16,
     "metadata": {},
     "output_type": "execute_result"
    }
   ],
   "source": [
    "# create a function the i have particular skill then which total job available\n",
    "def find_job(skill):\n",
    "    mask = df[\"Skills/Description\"].str.contains(skill,case=False)\n",
    "    return df[mask].count()\n",
    "find_job(\"python\")"
   ]
  },
  {
   "cell_type": "code",
   "execution_count": 17,
   "id": "6fe19fc0",
   "metadata": {},
   "outputs": [
    {
     "data": {
      "text/plain": [
       "Job_Role              1301\n",
       "Company               1301\n",
       "Location              1301\n",
       "Job Experience        1301\n",
       "Skills/Description    1301\n",
       "dtype: int64"
      ]
     },
     "execution_count": 17,
     "metadata": {},
     "output_type": "execute_result"
    }
   ],
   "source": [
    "def find_city_job(city):\n",
    "    mask = df['Location'].str.contains(city,case=False)\n",
    "    return df[mask].count()\n",
    "find_city_job(\"Chennai\")"
   ]
  },
  {
   "cell_type": "code",
   "execution_count": 18,
   "id": "cd19ce55",
   "metadata": {},
   "outputs": [
    {
     "data": {
      "text/plain": [
       "Job_Role              433\n",
       "Company               433\n",
       "Location              433\n",
       "Job Experience        433\n",
       "Skills/Description    433\n",
       "dtype: int64"
      ]
     },
     "execution_count": 18,
     "metadata": {},
     "output_type": "execute_result"
    }
   ],
   "source": [
    "def find_role_job(city):\n",
    "    mask = df[\"Job_Role\"].str.contains(city,case=False)\n",
    "    return df[mask].count()\n",
    "find_role_job(\"analytics\")"
   ]
  },
  {
   "cell_type": "code",
   "execution_count": 19,
   "id": "7c9ebdbf",
   "metadata": {},
   "outputs": [],
   "source": [
    "df[['min', 'max']] = df['Job Experience'].str.split('-', expand=True).astype(int)"
   ]
  },
  {
   "cell_type": "code",
   "execution_count": 20,
   "id": "0d6a3b8c",
   "metadata": {},
   "outputs": [
    {
     "data": {
      "text/html": [
       "<div>\n",
       "<style scoped>\n",
       "    .dataframe tbody tr th:only-of-type {\n",
       "        vertical-align: middle;\n",
       "    }\n",
       "\n",
       "    .dataframe tbody tr th {\n",
       "        vertical-align: top;\n",
       "    }\n",
       "\n",
       "    .dataframe thead th {\n",
       "        text-align: right;\n",
       "    }\n",
       "</style>\n",
       "<table border=\"1\" class=\"dataframe\">\n",
       "  <thead>\n",
       "    <tr style=\"text-align: right;\">\n",
       "      <th></th>\n",
       "      <th>Job_Role</th>\n",
       "      <th>Company</th>\n",
       "      <th>Location</th>\n",
       "      <th>Skills/Description</th>\n",
       "      <th>min</th>\n",
       "      <th>max</th>\n",
       "    </tr>\n",
       "  </thead>\n",
       "  <tbody>\n",
       "    <tr>\n",
       "      <th>0</th>\n",
       "      <td>Senior Data Scientist</td>\n",
       "      <td>UPL</td>\n",
       "      <td>Bangalore/Bengaluru, Mumbai (All Areas)</td>\n",
       "      <td>python, MLT, statistical modeling, machine lea...</td>\n",
       "      <td>3</td>\n",
       "      <td>6</td>\n",
       "    </tr>\n",
       "    <tr>\n",
       "      <th>1</th>\n",
       "      <td>Senior Data Scientist</td>\n",
       "      <td>Walmart</td>\n",
       "      <td>Bangalore/Bengaluru</td>\n",
       "      <td>Data Science, Machine learning, Python, Azure,...</td>\n",
       "      <td>5</td>\n",
       "      <td>9</td>\n",
       "    </tr>\n",
       "    <tr>\n",
       "      <th>2</th>\n",
       "      <td>Applied Data Scientist / ML Senior Engineer (P...</td>\n",
       "      <td>SAP India Pvt.Ltd</td>\n",
       "      <td>Bangalore/Bengaluru</td>\n",
       "      <td>Python, IT Skills, Testing, Cloud, Product Man...</td>\n",
       "      <td>5</td>\n",
       "      <td>10</td>\n",
       "    </tr>\n",
       "    <tr>\n",
       "      <th>3</th>\n",
       "      <td>Data Scientist</td>\n",
       "      <td>UPL</td>\n",
       "      <td>Bangalore/Bengaluru, Mumbai (All Areas)</td>\n",
       "      <td>python, machine learning, Data Science, data a...</td>\n",
       "      <td>1</td>\n",
       "      <td>4</td>\n",
       "    </tr>\n",
       "    <tr>\n",
       "      <th>4</th>\n",
       "      <td>Data Scientist</td>\n",
       "      <td>Walmart</td>\n",
       "      <td>Bangalore/Bengaluru</td>\n",
       "      <td>IT Skills, Python, Data Science, Machine Learn...</td>\n",
       "      <td>4</td>\n",
       "      <td>8</td>\n",
       "    </tr>\n",
       "  </tbody>\n",
       "</table>\n",
       "</div>"
      ],
      "text/plain": [
       "                                            Job_Role            Company  \\\n",
       "0                              Senior Data Scientist                UPL   \n",
       "1                              Senior Data Scientist            Walmart   \n",
       "2  Applied Data Scientist / ML Senior Engineer (P...  SAP India Pvt.Ltd   \n",
       "3                                     Data Scientist                UPL   \n",
       "4                                     Data Scientist            Walmart   \n",
       "\n",
       "                                  Location  \\\n",
       "0  Bangalore/Bengaluru, Mumbai (All Areas)   \n",
       "1                      Bangalore/Bengaluru   \n",
       "2                      Bangalore/Bengaluru   \n",
       "3  Bangalore/Bengaluru, Mumbai (All Areas)   \n",
       "4                      Bangalore/Bengaluru   \n",
       "\n",
       "                                  Skills/Description  min  max  \n",
       "0  python, MLT, statistical modeling, machine lea...    3    6  \n",
       "1  Data Science, Machine learning, Python, Azure,...    5    9  \n",
       "2  Python, IT Skills, Testing, Cloud, Product Man...    5   10  \n",
       "3  python, machine learning, Data Science, data a...    1    4  \n",
       "4  IT Skills, Python, Data Science, Machine Learn...    4    8  "
      ]
     },
     "execution_count": 20,
     "metadata": {},
     "output_type": "execute_result"
    }
   ],
   "source": [
    "df.pop(\"Job Experience\")\n",
    "df.head()"
   ]
  },
  {
   "cell_type": "code",
   "execution_count": 21,
   "id": "c253290f",
   "metadata": {},
   "outputs": [
    {
     "name": "stdout",
     "output_type": "stream",
     "text": [
      "fresher total avalible job: 405\n"
     ]
    }
   ],
   "source": [
    "# fresher total avalible job\n",
    "print(\"fresher total avalible job:\",df[\"Job_Role\"][df[\"min\"]==0].count())"
   ]
  },
  {
   "cell_type": "code",
   "execution_count": 22,
   "id": "888027f9",
   "metadata": {},
   "outputs": [
    {
     "data": {
      "text/plain": [
       "Company\n",
       "Accenture                          490\n",
       "IBM                                316\n",
       "Infostretch solutions Pvt. Ltd.    304\n",
       "Huquo Consulting Pvt. Ltd          295\n",
       "Anicalls                           115\n",
       "Name: Job_Role, dtype: int64"
      ]
     },
     "execution_count": 22,
     "metadata": {},
     "output_type": "execute_result"
    }
   ],
   "source": [
    "group= df.groupby(by=\"Company\")[\"Job_Role\"]\n",
    "group.count().sort_values(ascending=False).head()"
   ]
  },
  {
   "cell_type": "code",
   "execution_count": 23,
   "id": "bf33ce3d",
   "metadata": {},
   "outputs": [
    {
     "data": {
      "text/html": [
       "<div>\n",
       "<style scoped>\n",
       "    .dataframe tbody tr th:only-of-type {\n",
       "        vertical-align: middle;\n",
       "    }\n",
       "\n",
       "    .dataframe tbody tr th {\n",
       "        vertical-align: top;\n",
       "    }\n",
       "\n",
       "    .dataframe thead th {\n",
       "        text-align: right;\n",
       "    }\n",
       "</style>\n",
       "<table border=\"1\" class=\"dataframe\">\n",
       "  <thead>\n",
       "    <tr style=\"text-align: right;\">\n",
       "      <th></th>\n",
       "      <th>Job_Role</th>\n",
       "      <th>Company</th>\n",
       "      <th>Location</th>\n",
       "      <th>Skills/Description</th>\n",
       "      <th>min</th>\n",
       "      <th>max</th>\n",
       "    </tr>\n",
       "  </thead>\n",
       "  <tbody>\n",
       "    <tr>\n",
       "      <th>3661</th>\n",
       "      <td>Senior Technical Lead (Data Engineer)</td>\n",
       "      <td>Infostretch solutions Pvt. Ltd.</td>\n",
       "      <td>Ahmedabad</td>\n",
       "      <td>jQuery, Front end, Coding, Javascript, Agile, ...</td>\n",
       "      <td>10</td>\n",
       "      <td>15</td>\n",
       "    </tr>\n",
       "    <tr>\n",
       "      <th>11299</th>\n",
       "      <td>AI Computer Vision Developer</td>\n",
       "      <td>IBM</td>\n",
       "      <td>Ahmedabad</td>\n",
       "      <td>IT Skills, Python, Software Development, Machi...</td>\n",
       "      <td>3</td>\n",
       "      <td>5</td>\n",
       "    </tr>\n",
       "    <tr>\n",
       "      <th>7802</th>\n",
       "      <td>Research Analyst</td>\n",
       "      <td>Theaddress</td>\n",
       "      <td>Ahmedabad</td>\n",
       "      <td>Accounting, Finance, Data Analysis, Data Colle...</td>\n",
       "      <td>0</td>\n",
       "      <td>3</td>\n",
       "    </tr>\n",
       "    <tr>\n",
       "      <th>11209</th>\n",
       "      <td>Senior Python Developer - Django/Flask</td>\n",
       "      <td>TalentStack</td>\n",
       "      <td>Ahmedabad</td>\n",
       "      <td>Flask, Python, Django, AWS cloud, server progr...</td>\n",
       "      <td>2</td>\n",
       "      <td>5</td>\n",
       "    </tr>\n",
       "    <tr>\n",
       "      <th>3304</th>\n",
       "      <td>Jr . Data Engineer</td>\n",
       "      <td>Inferenz Tech Pvt Ltd.</td>\n",
       "      <td>Ahmedabad</td>\n",
       "      <td>Unit Testing, Snowflake, Azure Data Pipeline, ...</td>\n",
       "      <td>0</td>\n",
       "      <td>3</td>\n",
       "    </tr>\n",
       "    <tr>\n",
       "      <th>...</th>\n",
       "      <td>...</td>\n",
       "      <td>...</td>\n",
       "      <td>...</td>\n",
       "      <td>...</td>\n",
       "      <td>...</td>\n",
       "      <td>...</td>\n",
       "    </tr>\n",
       "    <tr>\n",
       "      <th>4328</th>\n",
       "      <td>Data Engineer</td>\n",
       "      <td>Collabera India</td>\n",
       "      <td>karnataka</td>\n",
       "      <td>Big Data, IT Skills, Java, Python, Cloud, Jenk...</td>\n",
       "      <td>5</td>\n",
       "      <td>7</td>\n",
       "    </tr>\n",
       "    <tr>\n",
       "      <th>1244</th>\n",
       "      <td>Specialist; Data Scientist</td>\n",
       "      <td>Merck</td>\n",
       "      <td>karnataka</td>\n",
       "      <td>Coding, Enterprise applications, Time series a...</td>\n",
       "      <td>2</td>\n",
       "      <td>5</td>\n",
       "    </tr>\n",
       "    <tr>\n",
       "      <th>10913</th>\n",
       "      <td>market research analyst</td>\n",
       "      <td>Seven Consultancy</td>\n",
       "      <td>lunglei,mizoram</td>\n",
       "      <td>Market Research Analyst, Data collection, Digi...</td>\n",
       "      <td>4</td>\n",
       "      <td>5</td>\n",
       "    </tr>\n",
       "    <tr>\n",
       "      <th>11886</th>\n",
       "      <td>Machine Learning Engineer</td>\n",
       "      <td>Predire AnalyzeData Private Limited</td>\n",
       "      <td>punjab</td>\n",
       "      <td>IT Skills, Java, Python, Machine Learning, Art...</td>\n",
       "      <td>2</td>\n",
       "      <td>5</td>\n",
       "    </tr>\n",
       "    <tr>\n",
       "      <th>10063</th>\n",
       "      <td>Business Systems Analyst</td>\n",
       "      <td>Creative Capsule, LLC</td>\n",
       "      <td>verna,goa</td>\n",
       "      <td>IT Skills, Software Development, Quality Assur...</td>\n",
       "      <td>5</td>\n",
       "      <td>10</td>\n",
       "    </tr>\n",
       "  </tbody>\n",
       "</table>\n",
       "<p>12000 rows × 6 columns</p>\n",
       "</div>"
      ],
      "text/plain": [
       "                                     Job_Role  \\\n",
       "3661    Senior Technical Lead (Data Engineer)   \n",
       "11299            AI Computer Vision Developer   \n",
       "7802                         Research Analyst   \n",
       "11209  Senior Python Developer - Django/Flask   \n",
       "3304                       Jr . Data Engineer   \n",
       "...                                       ...   \n",
       "4328                            Data Engineer   \n",
       "1244               Specialist; Data Scientist   \n",
       "10913                 market research analyst   \n",
       "11886               Machine Learning Engineer   \n",
       "10063                Business Systems Analyst   \n",
       "\n",
       "                                   Company         Location  \\\n",
       "3661       Infostretch solutions Pvt. Ltd.        Ahmedabad   \n",
       "11299                                  IBM        Ahmedabad   \n",
       "7802                            Theaddress        Ahmedabad   \n",
       "11209                          TalentStack        Ahmedabad   \n",
       "3304                Inferenz Tech Pvt Ltd.        Ahmedabad   \n",
       "...                                    ...              ...   \n",
       "4328                       Collabera India        karnataka   \n",
       "1244                                 Merck        karnataka   \n",
       "10913                    Seven Consultancy  lunglei,mizoram   \n",
       "11886  Predire AnalyzeData Private Limited           punjab   \n",
       "10063                Creative Capsule, LLC        verna,goa   \n",
       "\n",
       "                                      Skills/Description  min  max  \n",
       "3661   jQuery, Front end, Coding, Javascript, Agile, ...   10   15  \n",
       "11299  IT Skills, Python, Software Development, Machi...    3    5  \n",
       "7802   Accounting, Finance, Data Analysis, Data Colle...    0    3  \n",
       "11209  Flask, Python, Django, AWS cloud, server progr...    2    5  \n",
       "3304   Unit Testing, Snowflake, Azure Data Pipeline, ...    0    3  \n",
       "...                                                  ...  ...  ...  \n",
       "4328   Big Data, IT Skills, Java, Python, Cloud, Jenk...    5    7  \n",
       "1244   Coding, Enterprise applications, Time series a...    2    5  \n",
       "10913  Market Research Analyst, Data collection, Digi...    4    5  \n",
       "11886  IT Skills, Java, Python, Machine Learning, Art...    2    5  \n",
       "10063  IT Skills, Software Development, Quality Assur...    5   10  \n",
       "\n",
       "[12000 rows x 6 columns]"
      ]
     },
     "execution_count": 23,
     "metadata": {},
     "output_type": "execute_result"
    }
   ],
   "source": [
    "df.sort_values(by=\"Location\",ascending=True)"
   ]
  },
  {
   "cell_type": "code",
   "execution_count": 24,
   "id": "4523fbc0",
   "metadata": {},
   "outputs": [
    {
     "data": {
      "text/html": [
       "<div>\n",
       "<style scoped>\n",
       "    .dataframe tbody tr th:only-of-type {\n",
       "        vertical-align: middle;\n",
       "    }\n",
       "\n",
       "    .dataframe tbody tr th {\n",
       "        vertical-align: top;\n",
       "    }\n",
       "\n",
       "    .dataframe thead th {\n",
       "        text-align: right;\n",
       "    }\n",
       "</style>\n",
       "<table border=\"1\" class=\"dataframe\">\n",
       "  <thead>\n",
       "    <tr style=\"text-align: right;\">\n",
       "      <th></th>\n",
       "      <th>Job_Role</th>\n",
       "      <th>Company</th>\n",
       "      <th>Location</th>\n",
       "      <th>Skills/Description</th>\n",
       "      <th>min</th>\n",
       "      <th>max</th>\n",
       "    </tr>\n",
       "  </thead>\n",
       "  <tbody>\n",
       "    <tr>\n",
       "      <th>2944</th>\n",
       "      <td>Data Analyst</td>\n",
       "      <td>CINDREBAY SCHOOL OF FASHION &amp; INTERIOR DESIGN</td>\n",
       "      <td>Hyderabad/Secunderabad, Coimbatore, Thodupuzha...</td>\n",
       "      <td>Secondary Data, Database Design Development, B...</td>\n",
       "      <td>1</td>\n",
       "      <td>4</td>\n",
       "    </tr>\n",
       "  </tbody>\n",
       "</table>\n",
       "</div>"
      ],
      "text/plain": [
       "          Job_Role                                        Company  \\\n",
       "2944  Data Analyst  CINDREBAY SCHOOL OF FASHION & INTERIOR DESIGN   \n",
       "\n",
       "                                               Location  \\\n",
       "2944  Hyderabad/Secunderabad, Coimbatore, Thodupuzha...   \n",
       "\n",
       "                                     Skills/Description  min  max  \n",
       "2944  Secondary Data, Database Design Development, B...    1    4  "
      ]
     },
     "execution_count": 24,
     "metadata": {},
     "output_type": "execute_result"
    }
   ],
   "source": [
    "df[df[\"Location\"].str.len() == df[\"Location\"].str.len().max()]"
   ]
  },
  {
   "cell_type": "code",
   "execution_count": 25,
   "id": "5276224e",
   "metadata": {},
   "outputs": [
    {
     "name": "stdout",
     "output_type": "stream",
     "text": [
      "Hyderabad/Secunderabad, Coimbatore, Thodupuzha, Trivandrum/Thiruvananthapuram, Kochi/Cochin, Kolkata, Cannanore/Kannur, Indore, Nagpur, Pune, Lucknow, Calicut/Kozhikode, Bangalore/Bengaluru\n"
     ]
    }
   ],
   "source": [
    "city = df.iloc[2944,2]\n",
    "print(city)"
   ]
  },
  {
   "cell_type": "code",
   "execution_count": 43,
   "id": "2ee777f5",
   "metadata": {},
   "outputs": [
    {
     "name": "stderr",
     "output_type": "stream",
     "text": [
      "C:\\Users\\pramit\\AppData\\Local\\Temp\\ipykernel_262516\\614367503.py:2: SettingWithCopyWarning: \n",
      "A value is trying to be set on a copy of a slice from a DataFrame.\n",
      "Try using .loc[row_indexer,col_indexer] = value instead\n",
      "\n",
      "See the caveats in the documentation: https://pandas.pydata.org/pandas-docs/stable/user_guide/indexing.html#returning-a-view-versus-a-copy\n",
      "  df[mask][\"Job_Role\"]=\"data\"\n"
     ]
    }
   ],
   "source": [
    "mask = df[\"Job_Role\"].str.contains(pat=\"scientist\")\n",
    "df[mask][\"Job_Role\"]=\"data\"\n",
    "\n"
   ]
  },
  {
   "cell_type": "code",
   "execution_count": null,
   "id": "26758f0e",
   "metadata": {},
   "outputs": [],
   "source": []
  }
 ],
 "metadata": {
  "kernelspec": {
   "display_name": "Python 3",
   "language": "python",
   "name": "python3"
  },
  "language_info": {
   "codemirror_mode": {
    "name": "ipython",
    "version": 3
   },
   "file_extension": ".py",
   "mimetype": "text/x-python",
   "name": "python",
   "nbconvert_exporter": "python",
   "pygments_lexer": "ipython3",
   "version": "3.13.1"
  }
 },
 "nbformat": 4,
 "nbformat_minor": 5
}
